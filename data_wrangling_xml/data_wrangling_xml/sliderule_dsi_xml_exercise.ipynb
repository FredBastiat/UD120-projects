{
 "cells": [
  {
   "cell_type": "markdown",
   "metadata": {},
   "source": [
    "##### XML example and exercise\n",
    "****\n",
    "+ study examples of accessing nodes in XML tree structure  \n",
    "+ work on exercise to be completed and submitted\n",
    "****\n",
    "+ reference: https://docs.python.org/2.7/library/xml.etree.elementtree.html\n",
    "+ data source: http://www.dbis.informatik.uni-goettingen.de/Mondial\n",
    "****"
   ]
  },
  {
   "cell_type": "code",
   "execution_count": 2,
   "metadata": {
    "collapsed": true
   },
   "outputs": [],
   "source": [
    "from xml.etree import ElementTree as ET"
   ]
  },
  {
   "cell_type": "markdown",
   "metadata": {},
   "source": [
    "## XML example\n",
    "\n",
    "+ for details about tree traversal and iterators, see https://docs.python.org/2.7/library/xml.etree.elementtree.html"
   ]
  },
  {
   "cell_type": "code",
   "execution_count": 6,
   "metadata": {
    "collapsed": false
   },
   "outputs": [],
   "source": [
    "document_tree = ET.parse( './data/mondial_database_less.xml' )"
   ]
  },
  {
   "cell_type": "code",
   "execution_count": 7,
   "metadata": {
    "collapsed": false
   },
   "outputs": [
    {
     "name": "stdout",
     "output_type": "stream",
     "text": [
      "Albania\n",
      "Greece\n",
      "Macedonia\n",
      "Serbia\n",
      "Montenegro\n",
      "Kosovo\n",
      "Andorra\n"
     ]
    }
   ],
   "source": [
    "# print names of all countries\n",
    "for child in document_tree.getroot():\n",
    "    print child.find('name').text"
   ]
  },
  {
   "cell_type": "code",
   "execution_count": 8,
   "metadata": {
    "collapsed": false
   },
   "outputs": [
    {
     "name": "stdout",
     "output_type": "stream",
     "text": [
      "* Albania: Tirana, Shkodër, Durrës, Vlorë, Elbasan, Korçë\n",
      "* Greece: Komotini, Kavala, Athina, Peiraias, Peristeri, Acharnes, Patra, Kozani, Kerkyra, Ioannina, Thessaloniki, Iraklio, Chania, Ermoupoli, Rhodes, Tripoli, Lamia, Chalkida, Larissa, Volos, Mytilini, Karyes\n",
      "* Macedonia: Skopje, Kumanovo\n",
      "* Serbia: Beograd, Novi Sad, Niš\n",
      "* Montenegro: Podgorica\n",
      "* Kosovo: Prishtine\n",
      "* Andorra: Andorra la Vella\n"
     ]
    }
   ],
   "source": [
    "# print names of all countries and their cities\n",
    "for element in document_tree.iterfind('country'):\n",
    "    print '* ' + element.find('name').text + ':',\n",
    "    capitals_string = ''\n",
    "    for subelement in element.getiterator('city'):\n",
    "        capitals_string += subelement.find('name').text + ', '\n",
    "    print capitals_string[:-2]"
   ]
  },
  {
   "cell_type": "markdown",
   "metadata": {},
   "source": [
    "****\n",
    "## XML exercise\n",
    "\n",
    "Using data in 'data/mondial_database.xml', the examples above, and refering to https://docs.python.org/2.7/library/xml.etree.elementtree.html, find\n",
    "\n",
    "1. 10 countries with the lowest infant mortality rates\n",
    "2. 10 cities with the largest population\n",
    "3. 10 ethnic groups with the largest overall populations (sum of best/latest estimates over all countries)\n",
    "4. name and country of a) longest river, b) largest lake and c) airport at highest elevation"
   ]
  },
  {
   "cell_type": "code",
   "execution_count": 9,
   "metadata": {
    "collapsed": false
   },
   "outputs": [],
   "source": [
    "document = ET.parse( './data/mondial_database.xml' )"
   ]
  },
  {
   "cell_type": "code",
   "execution_count": 112,
   "metadata": {
    "collapsed": false
   },
   "outputs": [
    {
     "data": {
      "text/plain": [
       "[(1.81, 'Monaco'),\n",
       " (2.13, 'Japan'),\n",
       " (2.48, 'Bermuda'),\n",
       " (2.53, 'Singapore'),\n",
       " (2.6, 'Sweden'),\n",
       " (2.63, 'Czech Republic'),\n",
       " (2.73, 'Hong Kong'),\n",
       " (3.13, 'Macao'),\n",
       " (3.15, 'Iceland'),\n",
       " (3.31, 'Italy'),\n",
       " (3.33, 'Spain'),\n",
       " (3.36, 'Finland'),\n",
       " (3.4, 'Anguilla'),\n",
       " (3.46, 'Germany'),\n",
       " (3.47, 'Melilla'),\n",
       " (3.59, 'Malta'),\n",
       " (3.64, 'Belarus'),\n",
       " (3.66, 'Netherlands'),\n",
       " (3.69, 'Andorra'),\n",
       " (3.73, 'Switzerland'),\n",
       " (3.74, 'Ireland'),\n",
       " (3.86, 'Jersey'),\n",
       " (3.93, 'South Korea'),\n",
       " (3.98, 'Israel'),\n",
       " (4.04, 'Slovenia'),\n",
       " (4.1, 'Denmark'),\n",
       " (4.16, 'Austria'),\n",
       " (4.17, 'Isle of Man'),\n",
       " (4.18, 'Belgium'),\n",
       " (4.28, 'Luxembourg'),\n",
       " (4.33, 'Liechtenstein'),\n",
       " (4.43, 'Australia'),\n",
       " (4.44, 'United Kingdom'),\n",
       " (4.48, 'Svalbard'),\n",
       " (4.49, 'Wallis and Futuna'),\n",
       " (4.52, 'San Marino'),\n",
       " (4.59, 'Norfolk Island'),\n",
       " (4.7, 'Cuba'),\n",
       " (4.71, 'Canada'),\n",
       " (4.78, 'French Polynesia'),\n",
       " (5.09, 'Hungary'),\n",
       " (5.35, 'Slovakia'),\n",
       " (5.46, 'New Caledonia'),\n",
       " (5.5, 'Northern Mariana Islands'),\n",
       " (5.51, 'Guam'),\n",
       " (5.71, 'Faroe Islands'),\n",
       " (5.84, 'Bosnia and Herzegovina'),\n",
       " (5.87, 'Croatia'),\n",
       " (6.0, 'Lithuania'),\n",
       " (6.16, 'Kosovo'),\n",
       " (6.17, 'United States'),\n",
       " (6.19, 'Poland'),\n",
       " (6.21, 'Cayman Islands'),\n",
       " (6.29, 'Gibraltar'),\n",
       " (6.42, 'Qatar'),\n",
       " (6.7, 'Estonia'),\n",
       " (6.79, 'Virgin Islands'),\n",
       " (6.95, 'Saint Pierre and Miquelon'),\n",
       " (7.02, 'Chile'),\n",
       " (7.08, 'Russia'),\n",
       " (7.1, 'Martinique'),\n",
       " (7.5, 'Reunion'),\n",
       " (7.51, 'Kuwait'),\n",
       " (7.73, 'Puerto Rico'),\n",
       " (7.9, 'Macedonia'),\n",
       " (7.91, 'Latvia'),\n",
       " (7.98, 'Lebanon'),\n",
       " (8.1, 'Ukraine'),\n",
       " (8.21, 'Nauru'),\n",
       " (8.3, 'Guadeloupe'),\n",
       " (8.54, 'Cyprus'),\n",
       " (8.7, 'Costa Rica'),\n",
       " (8.92, 'American Samoa'),\n",
       " (8.97, 'Uruguay'),\n",
       " (8.98, 'Saint Kitts and Nevis'),\n",
       " (9.02, 'Sri Lanka'),\n",
       " (9.05, 'Saint Barthelemy'),\n",
       " (9.38, 'Botswana'),\n",
       " (9.42, 'Greenland'),\n",
       " (9.68, 'Bahrain'),\n",
       " (9.86, 'Thailand'),\n",
       " (9.96, 'Argentina'),\n",
       " (10.16, 'Romania'),\n",
       " (10.2, 'Fiji'),\n",
       " (10.48, 'Brunei'),\n",
       " (10.5, 'Grenada'),\n",
       " (10.59, 'Mauritius'),\n",
       " (10.7, 'Panama'),\n",
       " (10.77, 'Seychelles'),\n",
       " (10.92, 'United Arab Emirates'),\n",
       " (10.93, 'Barbados'),\n",
       " (10.97, 'Turks and Caicos Islands'),\n",
       " (11.46, 'Pitcairn'),\n",
       " (11.61, 'Dominica'),\n",
       " (11.74, 'Aruba'),\n",
       " (11.75, 'Saint Lucia'),\n",
       " (11.87, 'Libya'),\n",
       " (12.36, 'Tonga'),\n",
       " (12.5, 'Bahamas'),\n",
       " (12.58, 'Mexico'),\n",
       " (12.93, 'Moldova'),\n",
       " (13.07, 'Saint Vincent and the Grenadines'),\n",
       " (13.19, 'Albania'),\n",
       " (13.29, 'Antigua and Barbuda'),\n",
       " (13.45, 'British Virgin Islands'),\n",
       " (13.66, 'Curacao'),\n",
       " (13.69, 'Jamaica'),\n",
       " (13.97, 'Armenia'),\n",
       " (14.0, 'Oman'),\n",
       " (14.33, 'Cook Islands'),\n",
       " (14.58, 'Saudi Arabia'),\n",
       " (14.6, 'French Guiana'),\n",
       " (14.79, 'China'),\n",
       " (15.02, 'Colombia'),\n",
       " (15.08, 'Bulgaria'),\n",
       " (15.73, 'Jordan'),\n",
       " (15.79, 'Syria'),\n",
       " (16.17, 'Solomon Islands'),\n",
       " (16.41, 'Vanuatu'),\n",
       " (16.68, 'Georgia'),\n",
       " (17.63, 'Saint Helena'),\n",
       " (17.64, 'Philippines'),\n",
       " (17.93, 'Falkland Islands'),\n",
       " (18.44, 'El Salvador'),\n",
       " (18.72, 'Honduras'),\n",
       " (18.99, 'Vietnam'),\n",
       " (19.21, 'Brazil'),\n",
       " (19.33, 'Venezuela'),\n",
       " (19.63, 'Dominican Republic'),\n",
       " (19.84, 'Uzbekistan'),\n",
       " (20.21, 'Peru'),\n",
       " (20.31, 'Belize'),\n",
       " (20.36, 'Nicaragua'),\n",
       " (20.5, 'Samoa'),\n",
       " (20.75, 'Paraguay'),\n",
       " (21.39, 'Marshall Islands'),\n",
       " (21.43, 'Turkey'),\n",
       " (21.61, 'Kazakhstan'),\n",
       " (21.76, 'Algeria'),\n",
       " (21.93, 'Micronesia'),\n",
       " (22.41, 'Egypt'),\n",
       " (23.15, 'Mongolia'),\n",
       " (23.19, 'Tunisia'),\n",
       " (23.51, 'Guatemala'),\n",
       " (24.28, 'Cape Verde'),\n",
       " (24.5, 'North Korea'),\n",
       " (24.52, 'Morocco'),\n",
       " (24.59, 'Maldives'),\n",
       " (24.82, 'Trinidad and Tobago'),\n",
       " (25.16, 'Indonesia'),\n",
       " (26.55, 'Zimbabwe'),\n",
       " (26.67, 'Azerbaijan'),\n",
       " (27.07, 'Suriname'),\n",
       " (28.6, 'West Bank'),\n",
       " (28.71, 'Kyrgyzstan'),\n",
       " (30.6, 'Gaza Strip'),\n",
       " (31.69, 'Tokelau'),\n",
       " (33.56, 'Guyana'),\n",
       " (35.03, 'Tajikistan'),\n",
       " (35.37, 'Kiribati'),\n",
       " (37.53, 'Iraq'),\n",
       " (37.89, 'Bhutan'),\n",
       " (38.13, 'Turkmenistan'),\n",
       " (38.44, 'Eritrea'),\n",
       " (38.52, 'Ghana'),\n",
       " (38.61, 'Bolivia'),\n",
       " (38.79, 'Timor-Leste'),\n",
       " (39.0, 'Iran'),\n",
       " (39.67, 'Papua New Guinea'),\n",
       " (40.43, 'Cocos Islands'),\n",
       " (40.71, 'Kenya'),\n",
       " (41.61, 'South Africa'),\n",
       " (43.19, 'India'),\n",
       " (43.74, 'Tanzania'),\n",
       " (44.88, 'Madagascar'),\n",
       " (44.91, 'Myanmar'),\n",
       " (45.64, 'Namibia'),\n",
       " (45.67, 'Bangladesh'),\n",
       " (46.73, 'Togo'),\n",
       " (47.03, 'Gabon'),\n",
       " (48.01, 'Malawi'),\n",
       " (49.16, 'Sao Tome and Principe'),\n",
       " (49.43, 'Haiti'),\n",
       " (50.2, 'Djibouti'),\n",
       " (50.41, 'Yemen'),\n",
       " (50.48, 'Lesotho'),\n",
       " (51.36, 'Cambodia'),\n",
       " (52.72, 'Senegal'),\n",
       " (52.86, 'Sudan'),\n",
       " (54.53, 'Laos'),\n",
       " (54.82, 'Swaziland'),\n",
       " (55.1, 'Cameroon'),\n",
       " (55.24, 'Guinea'),\n",
       " (55.77, 'Ethiopia'),\n",
       " (56.06, 'Mauritania'),\n",
       " (56.29, 'Mayotte'),\n",
       " (57.09, 'Benin'),\n",
       " (57.48, 'Pakistan'),\n",
       " (59.34, 'Congo'),\n",
       " (59.59, 'Rwanda'),\n",
       " (60.16, 'Cote dIvoire'),\n",
       " (60.82, 'Uganda'),\n",
       " (63.44, 'Burundi'),\n",
       " (65.31, 'Comoros'),\n",
       " (65.74, 'Gambia'),\n",
       " (66.62, 'Zambia'),\n",
       " (68.16, 'South Sudan'),\n",
       " (69.19, 'Liberia'),\n",
       " (71.12, 'Equatorial Guinea'),\n",
       " (72.42, 'Mozambique'),\n",
       " (73.15, 'Zaire'),\n",
       " (73.29, 'Sierra Leone'),\n",
       " (74.09, 'Nigeria'),\n",
       " (76.8, 'Burkina Faso'),\n",
       " (79.99, 'Angola'),\n",
       " (86.27, 'Niger'),\n",
       " (90.3, 'Chad'),\n",
       " (90.92, 'Guinea-Bissau'),\n",
       " (92.86, 'Central African Republic'),\n",
       " (100.14, 'Somalia'),\n",
       " (104.34, 'Mali'),\n",
       " (117.23, 'Afghanistan'),\n",
       " (145.82, 'Western Sahara')]"
      ]
     },
     "execution_count": 112,
     "metadata": {},
     "output_type": "execute_result"
    }
   ],
   "source": [
    "import operator\n",
    "data = {}\n",
    "for child in document.iterfind('country'):\n",
    "    name = child.find('name').text\n",
    "    if child.find('infant_mortality') != None:\n",
    "        infant_mortality = float(child.find('infant_mortality').text)\n",
    "    data[infant_mortality] = name\n",
    "\n",
    "sorted(data.items())"
   ]
  },
  {
   "cell_type": "code",
   "execution_count": 56,
   "metadata": {
    "collapsed": false
   },
   "outputs": [
    {
     "data": {
      "text/plain": [
       "<Element 'country' at 0xb37cb2ec>"
      ]
     },
     "execution_count": 56,
     "metadata": {},
     "output_type": "execute_result"
    }
   ],
   "source": []
  },
  {
   "cell_type": "code",
   "execution_count": null,
   "metadata": {
    "collapsed": false
   },
   "outputs": [],
   "source": []
  },
  {
   "cell_type": "code",
   "execution_count": null,
   "metadata": {
    "collapsed": true
   },
   "outputs": [],
   "source": []
  },
  {
   "cell_type": "code",
   "execution_count": null,
   "metadata": {
    "collapsed": true
   },
   "outputs": [],
   "source": []
  },
  {
   "cell_type": "code",
   "execution_count": null,
   "metadata": {
    "collapsed": true
   },
   "outputs": [],
   "source": []
  },
  {
   "cell_type": "code",
   "execution_count": null,
   "metadata": {
    "collapsed": true
   },
   "outputs": [],
   "source": []
  },
  {
   "cell_type": "code",
   "execution_count": null,
   "metadata": {
    "collapsed": true
   },
   "outputs": [],
   "source": []
  },
  {
   "cell_type": "code",
   "execution_count": null,
   "metadata": {
    "collapsed": true
   },
   "outputs": [],
   "source": []
  },
  {
   "cell_type": "code",
   "execution_count": null,
   "metadata": {
    "collapsed": true
   },
   "outputs": [],
   "source": []
  },
  {
   "cell_type": "code",
   "execution_count": null,
   "metadata": {
    "collapsed": true
   },
   "outputs": [],
   "source": []
  },
  {
   "cell_type": "code",
   "execution_count": null,
   "metadata": {
    "collapsed": true
   },
   "outputs": [],
   "source": []
  },
  {
   "cell_type": "code",
   "execution_count": null,
   "metadata": {
    "collapsed": true
   },
   "outputs": [],
   "source": []
  },
  {
   "cell_type": "code",
   "execution_count": null,
   "metadata": {
    "collapsed": true
   },
   "outputs": [],
   "source": []
  },
  {
   "cell_type": "code",
   "execution_count": null,
   "metadata": {
    "collapsed": true
   },
   "outputs": [],
   "source": []
  },
  {
   "cell_type": "code",
   "execution_count": null,
   "metadata": {
    "collapsed": true
   },
   "outputs": [],
   "source": []
  },
  {
   "cell_type": "code",
   "execution_count": null,
   "metadata": {
    "collapsed": true
   },
   "outputs": [],
   "source": []
  },
  {
   "cell_type": "code",
   "execution_count": null,
   "metadata": {
    "collapsed": true
   },
   "outputs": [],
   "source": []
  },
  {
   "cell_type": "code",
   "execution_count": null,
   "metadata": {
    "collapsed": true
   },
   "outputs": [],
   "source": []
  },
  {
   "cell_type": "code",
   "execution_count": null,
   "metadata": {
    "collapsed": true
   },
   "outputs": [],
   "source": []
  },
  {
   "cell_type": "code",
   "execution_count": null,
   "metadata": {
    "collapsed": true
   },
   "outputs": [],
   "source": []
  },
  {
   "cell_type": "code",
   "execution_count": null,
   "metadata": {
    "collapsed": true
   },
   "outputs": [],
   "source": []
  },
  {
   "cell_type": "code",
   "execution_count": null,
   "metadata": {
    "collapsed": true
   },
   "outputs": [],
   "source": []
  },
  {
   "cell_type": "code",
   "execution_count": null,
   "metadata": {
    "collapsed": true
   },
   "outputs": [],
   "source": []
  }
 ],
 "metadata": {
  "kernelspec": {
   "display_name": "Python 2",
   "language": "python",
   "name": "python2"
  },
  "language_info": {
   "codemirror_mode": {
    "name": "ipython",
    "version": 2
   },
   "file_extension": ".py",
   "mimetype": "text/x-python",
   "name": "python",
   "nbconvert_exporter": "python",
   "pygments_lexer": "ipython2",
   "version": "2.7.11"
  }
 },
 "nbformat": 4,
 "nbformat_minor": 0
}
