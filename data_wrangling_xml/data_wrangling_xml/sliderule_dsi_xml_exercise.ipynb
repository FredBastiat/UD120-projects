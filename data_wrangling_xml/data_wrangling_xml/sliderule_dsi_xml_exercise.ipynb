{
 "cells": [
  {
   "cell_type": "markdown",
   "metadata": {},
   "source": [
    "##### XML example and exercise\n",
    "****\n",
    "+ study examples of accessing nodes in XML tree structure  \n",
    "+ work on exercise to be completed and submitted\n",
    "****\n",
    "+ reference: https://docs.python.org/2.7/library/xml.etree.elementtree.html\n",
    "+ data source: http://www.dbis.informatik.uni-goettingen.de/Mondial\n",
    "****"
   ]
  },
  {
   "cell_type": "code",
   "execution_count": 3,
   "metadata": {
    "collapsed": true
   },
   "outputs": [],
   "source": [
    "from xml.etree import ElementTree as ET"
   ]
  },
  {
   "cell_type": "markdown",
   "metadata": {},
   "source": [
    "## XML example\n",
    "\n",
    "+ for details about tree traversal and iterators, see https://docs.python.org/2.7/library/xml.etree.elementtree.html"
   ]
  },
  {
   "cell_type": "code",
   "execution_count": 4,
   "metadata": {
    "collapsed": false
   },
   "outputs": [],
   "source": [
    "document_tree = ET.parse( './data/mondial_database_less.xml' )"
   ]
  },
  {
   "cell_type": "code",
   "execution_count": 5,
   "metadata": {
    "collapsed": false
   },
   "outputs": [
    {
     "name": "stdout",
     "output_type": "stream",
     "text": [
      "Albania\n",
      "Greece\n",
      "Macedonia\n",
      "Serbia\n",
      "Montenegro\n",
      "Kosovo\n",
      "Andorra\n"
     ]
    }
   ],
   "source": [
    "# print names of all countries\n",
    "for child in document_tree.getroot():\n",
    "    print child.find('name').text"
   ]
  },
  {
   "cell_type": "code",
   "execution_count": 6,
   "metadata": {
    "collapsed": false
   },
   "outputs": [
    {
     "name": "stdout",
     "output_type": "stream",
     "text": [
      "* Albania: Tirana, Shkodër, Durrës, Vlorë, Elbasan, Korçë\n",
      "* Greece: Komotini, Kavala, Athina, Peiraias, Peristeri, Acharnes, Patra, Kozani, Kerkyra, Ioannina, Thessaloniki, Iraklio, Chania, Ermoupoli, Rhodes, Tripoli, Lamia, Chalkida, Larissa, Volos, Mytilini, Karyes\n",
      "* Macedonia: Skopje, Kumanovo\n",
      "* Serbia: Beograd, Novi Sad, Niš\n",
      "* Montenegro: Podgorica\n",
      "* Kosovo: Prishtine\n",
      "* Andorra: Andorra la Vella\n"
     ]
    }
   ],
   "source": [
    "# print names of all countries and their cities\n",
    "for element in document_tree.iterfind('country'):\n",
    "    print '* ' + element.find('name').text + ':',\n",
    "    capitals_string = ''\n",
    "    for subelement in element.getiterator('city'):\n",
    "        capitals_string += subelement.find('name').text + ', '\n",
    "    print capitals_string[:-2]"
   ]
  },
  {
   "cell_type": "markdown",
   "metadata": {},
   "source": [
    "****\n",
    "## XML exercise\n",
    "\n",
    "Using data in 'data/mondial_database.xml', the examples above, and refering to https://docs.python.org/2.7/library/xml.etree.elementtree.html, find\n",
    "\n",
    "1. 10 countries with the lowest infant mortality rates\n",
    "2. 10 cities with the largest population\n",
    "3. 10 ethnic groups with the largest overall populations (sum of best/latest estimates over all countries)\n",
    "4. name and country of a) longest river, b) largest lake and c) airport at highest elevation"
   ]
  },
  {
   "cell_type": "code",
   "execution_count": 7,
   "metadata": {
    "collapsed": false
   },
   "outputs": [],
   "source": [
    "document = ET.parse( './data/mondial_database.xml' )"
   ]
  },
  {
   "cell_type": "code",
   "execution_count": 16,
   "metadata": {
    "collapsed": false
   },
   "outputs": [
    {
     "data": {
      "text/plain": [
       "[(1.81, 'Monaco'),\n",
       " (2.13, 'Japan'),\n",
       " (2.48, 'Bermuda'),\n",
       " (2.53, 'Singapore'),\n",
       " (2.6, 'Sweden'),\n",
       " (2.63, 'Czech Republic'),\n",
       " (2.73, 'Hong Kong'),\n",
       " (3.13, 'Macao'),\n",
       " (3.15, 'Iceland'),\n",
       " (3.31, 'Italy')]"
      ]
     },
     "execution_count": 16,
     "metadata": {},
     "output_type": "execute_result"
    }
   ],
   "source": [
    "data = {}\n",
    "for child in document.iterfind('country'):\n",
    "    name = child.find('name').text\n",
    "    if child.find('infant_mortality') != None:\n",
    "        infant_mortality = float(child.find('infant_mortality').text)\n",
    "    data[infant_mortality] = name\n",
    "\n",
    "data = sorted(data.items())\n",
    "data[:10]"
   ]
  },
  {
   "cell_type": "code",
   "execution_count": 19,
   "metadata": {
    "collapsed": false
   },
   "outputs": [
    {
     "data": {
      "text/html": [
       "<div>\n",
       "<table border=\"1\" class=\"dataframe\">\n",
       "  <thead>\n",
       "    <tr style=\"text-align: right;\">\n",
       "      <th></th>\n",
       "      <th>city</th>\n",
       "      <th>population</th>\n",
       "    </tr>\n",
       "  </thead>\n",
       "  <tbody>\n",
       "    <tr>\n",
       "      <th>1251</th>\n",
       "      <td>Shanghai</td>\n",
       "      <td>22315474</td>\n",
       "    </tr>\n",
       "    <tr>\n",
       "      <th>707</th>\n",
       "      <td>Istanbul</td>\n",
       "      <td>13710512</td>\n",
       "    </tr>\n",
       "    <tr>\n",
       "      <th>1421</th>\n",
       "      <td>Mumbai</td>\n",
       "      <td>12442373</td>\n",
       "    </tr>\n",
       "    <tr>\n",
       "      <th>443</th>\n",
       "      <td>Moskva</td>\n",
       "      <td>11979529</td>\n",
       "    </tr>\n",
       "    <tr>\n",
       "      <th>1250</th>\n",
       "      <td>Beijing</td>\n",
       "      <td>11716620</td>\n",
       "    </tr>\n",
       "    <tr>\n",
       "      <th>2594</th>\n",
       "      <td>São Paulo</td>\n",
       "      <td>11152344</td>\n",
       "    </tr>\n",
       "    <tr>\n",
       "      <th>1252</th>\n",
       "      <td>Tianjin</td>\n",
       "      <td>11090314</td>\n",
       "    </tr>\n",
       "    <tr>\n",
       "      <th>974</th>\n",
       "      <td>Guangzhou</td>\n",
       "      <td>11071424</td>\n",
       "    </tr>\n",
       "    <tr>\n",
       "      <th>1467</th>\n",
       "      <td>Delhi</td>\n",
       "      <td>11034555</td>\n",
       "    </tr>\n",
       "    <tr>\n",
       "      <th>977</th>\n",
       "      <td>Shenzhen</td>\n",
       "      <td>10358381</td>\n",
       "    </tr>\n",
       "  </tbody>\n",
       "</table>\n",
       "</div>"
      ],
      "text/plain": [
       "           city  population\n",
       "1251   Shanghai    22315474\n",
       "707    Istanbul    13710512\n",
       "1421     Mumbai    12442373\n",
       "443      Moskva    11979529\n",
       "1250    Beijing    11716620\n",
       "2594  São Paulo    11152344\n",
       "1252    Tianjin    11090314\n",
       "974   Guangzhou    11071424\n",
       "1467      Delhi    11034555\n",
       "977    Shenzhen    10358381"
      ]
     },
     "execution_count": 19,
     "metadata": {},
     "output_type": "execute_result"
    }
   ],
   "source": [
    "# Create a dataframe with all countries and their most recent measured population \n",
    "import pandas as pd\n",
    "\n",
    "cities_list = []\n",
    "for element in document.iterfind('country'):\n",
    "    for subelement in element.getiterator('city'):\n",
    "            if subelement.find('population') != None:\n",
    "                dict = {}\n",
    "                dict['city'] = subelement.find('name').text\n",
    "                # Take the most recent population measured\n",
    "                dict['population'] = float(subelement.findall('population')[-1].text)\n",
    "                cities_list.append(dict)\n",
    "\n",
    "cities = pd.DataFrame(cities_list)  \n",
    "cities.sort_values(by = 'population', ascending = False).head(10)"
   ]
  },
  {
   "cell_type": "code",
   "execution_count": 22,
   "metadata": {
    "collapsed": false
   },
   "outputs": [
    {
     "data": {
      "text/plain": [
       "ethnicgroup\n",
       "Han Chinese        1.245059e+09\n",
       "African            3.400925e+08\n",
       "Malay              2.547754e+08\n",
       "Arab-Berber        1.708847e+08\n",
       "Eastern Hamitic    1.656608e+08\n",
       "Bengali            1.467769e+08\n",
       "Japanese           1.265342e+08\n",
       "European           1.234517e+08\n",
       "Mongol             1.089769e+08\n",
       "Thai               9.897249e+07\n",
       "Name: population_group, dtype: float64"
      ]
     },
     "execution_count": 22,
     "metadata": {},
     "output_type": "execute_result"
    }
   ],
   "source": [
    "# Create a dataframe with all countries, their population and the ethnic groups with percentage\n",
    "\n",
    "countries_list = []\n",
    "for element in document.iterfind('country'):\n",
    "        # read in the data using a datadictionary\n",
    "        dict = {}\n",
    "        if element.find('population') != None: \n",
    "            for ethnic in element.findall('ethnicgroup'):\n",
    "                dict['country'] = element.find('name').text\n",
    "                dict['population'] = float(element.findall('population')[-1].text)\n",
    "                dict['ethnicgroup'] = ethnic.text\n",
    "                dict['percentage'] = float(ethnic.attrib['percentage'])\n",
    "                countries_list.append(dict)\n",
    "                \n",
    "countries = pd.DataFrame(countries_list)               \n",
    "\n",
    "# calculate the population based on the ethnic group\n",
    "countries['population_group'] = countries.population*countries.percentage/100.0\n",
    "countries.groupby('ethnicgroup').population_group.sum().sort_values(ascending = False).head(10)"
   ]
  },
  {
   "cell_type": "code",
   "execution_count": 25,
   "metadata": {
    "collapsed": false
   },
   "outputs": [
    {
     "data": {
      "text/html": [
       "<div>\n",
       "<table border=\"1\" class=\"dataframe\">\n",
       "  <thead>\n",
       "    <tr style=\"text-align: right;\">\n",
       "      <th></th>\n",
       "      <th>country</th>\n",
       "      <th>elevation</th>\n",
       "      <th>name</th>\n",
       "    </tr>\n",
       "  </thead>\n",
       "  <tbody>\n",
       "    <tr>\n",
       "      <th>80</th>\n",
       "      <td>BOL</td>\n",
       "      <td>4063</td>\n",
       "      <td>El Alto Intl</td>\n",
       "    </tr>\n",
       "  </tbody>\n",
       "</table>\n",
       "</div>"
      ],
      "text/plain": [
       "   country  elevation          name\n",
       "80     BOL       4063  El Alto Intl"
      ]
     },
     "execution_count": 25,
     "metadata": {},
     "output_type": "execute_result"
    }
   ],
   "source": [
    "# Create a dataframe with all airports, their elevation and the country\n",
    "\n",
    "airport_list = []\n",
    "for element in document.iterfind('airport'):\n",
    "        # read in the data using a datadictionary\n",
    "        dict = {}\n",
    "        if element.find('elevation') != None: \n",
    "            dict['country'] = element.attrib['country']\n",
    "            dict['name'] = element.find('name').text\n",
    "            dict['elevation'] = element.find('elevation').text\n",
    "            airport_list.append(dict)\n",
    "# throw out the ones with missing elevation                \n",
    "airports = pd.DataFrame(airport_list).dropna()  \n",
    "# make the elevation a float\n",
    "airports.elevation = airports.elevation.map(int)\n",
    "\n",
    "airports.sort_values(by = 'elevation', ascending = False).head(1)"
   ]
  },
  {
   "cell_type": "code",
   "execution_count": 26,
   "metadata": {
    "collapsed": false
   },
   "outputs": [
    {
     "data": {
      "text/html": [
       "<div>\n",
       "<table border=\"1\" class=\"dataframe\">\n",
       "  <thead>\n",
       "    <tr style=\"text-align: right;\">\n",
       "      <th></th>\n",
       "      <th>area</th>\n",
       "      <th>country</th>\n",
       "      <th>name</th>\n",
       "    </tr>\n",
       "  </thead>\n",
       "  <tbody>\n",
       "    <tr>\n",
       "      <th>54</th>\n",
       "      <td>386400</td>\n",
       "      <td>R AZ KAZ IR TM</td>\n",
       "      <td>Caspian Sea</td>\n",
       "    </tr>\n",
       "  </tbody>\n",
       "</table>\n",
       "</div>"
      ],
      "text/plain": [
       "      area         country         name\n",
       "54  386400  R AZ KAZ IR TM  Caspian Sea"
      ]
     },
     "execution_count": 26,
     "metadata": {},
     "output_type": "execute_result"
    }
   ],
   "source": [
    "# Create a dataframe with all lakes, their size and the country\n",
    "\n",
    "lake_list = []\n",
    "for element in document.iterfind('lake'):\n",
    "        # read in the data using a datadictionary\n",
    "        dict = {}\n",
    "        if element.find('area') != None: \n",
    "            dict['country'] = element.attrib['country']\n",
    "            dict['name'] = element.find('name').text\n",
    "            dict['area'] = float(element.find('area').text)\n",
    "            \n",
    "        lake_list.append(dict)\n",
    "        \n",
    "# throw out the ones with missing elevation                \n",
    "lakes = pd.DataFrame(lake_list).dropna()  \n",
    "lakes.sort_values(by = 'area', ascending = False).head(1)"
   ]
  },
  {
   "cell_type": "code",
   "execution_count": 28,
   "metadata": {
    "collapsed": false
   },
   "outputs": [
    {
     "data": {
      "text/html": [
       "<div>\n",
       "<table border=\"1\" class=\"dataframe\">\n",
       "  <thead>\n",
       "    <tr style=\"text-align: right;\">\n",
       "      <th></th>\n",
       "      <th>country</th>\n",
       "      <th>length</th>\n",
       "      <th>name</th>\n",
       "    </tr>\n",
       "  </thead>\n",
       "  <tbody>\n",
       "    <tr>\n",
       "      <th>174</th>\n",
       "      <td>CO BR PE</td>\n",
       "      <td>6448</td>\n",
       "      <td>Amazonas</td>\n",
       "    </tr>\n",
       "  </tbody>\n",
       "</table>\n",
       "</div>"
      ],
      "text/plain": [
       "      country  length      name\n",
       "174  CO BR PE    6448  Amazonas"
      ]
     },
     "execution_count": 28,
     "metadata": {},
     "output_type": "execute_result"
    }
   ],
   "source": [
    "# Create a dataframe with all rivers, their length and the country\n",
    "\n",
    "river_list = []\n",
    "for element in document.iterfind('river'):\n",
    "        # read in the data using a datadictionary\n",
    "        dict = {}\n",
    "        if element.find('length') != None: \n",
    "            dict['country'] = element.attrib['country']\n",
    "            dict['name'] = element.find('name').text\n",
    "            dict['length'] = float(element.find('length').text)\n",
    "        river_list.append(dict)\n",
    "# throw out the ones with missing elevation                \n",
    "rivers = pd.DataFrame(river_list).dropna()\n",
    "rivers.sort_values(by = 'length', ascending = False).head(1)"
   ]
  },
  {
   "cell_type": "code",
   "execution_count": null,
   "metadata": {
    "collapsed": true
   },
   "outputs": [],
   "source": []
  },
  {
   "cell_type": "code",
   "execution_count": null,
   "metadata": {
    "collapsed": true
   },
   "outputs": [],
   "source": []
  },
  {
   "cell_type": "code",
   "execution_count": null,
   "metadata": {
    "collapsed": true
   },
   "outputs": [],
   "source": []
  },
  {
   "cell_type": "code",
   "execution_count": null,
   "metadata": {
    "collapsed": true
   },
   "outputs": [],
   "source": []
  },
  {
   "cell_type": "code",
   "execution_count": null,
   "metadata": {
    "collapsed": true
   },
   "outputs": [],
   "source": []
  },
  {
   "cell_type": "code",
   "execution_count": null,
   "metadata": {
    "collapsed": true
   },
   "outputs": [],
   "source": []
  },
  {
   "cell_type": "code",
   "execution_count": null,
   "metadata": {
    "collapsed": true
   },
   "outputs": [],
   "source": []
  },
  {
   "cell_type": "code",
   "execution_count": null,
   "metadata": {
    "collapsed": true
   },
   "outputs": [],
   "source": []
  },
  {
   "cell_type": "code",
   "execution_count": null,
   "metadata": {
    "collapsed": true
   },
   "outputs": [],
   "source": []
  },
  {
   "cell_type": "code",
   "execution_count": null,
   "metadata": {
    "collapsed": true
   },
   "outputs": [],
   "source": []
  },
  {
   "cell_type": "code",
   "execution_count": null,
   "metadata": {
    "collapsed": true
   },
   "outputs": [],
   "source": []
  },
  {
   "cell_type": "code",
   "execution_count": null,
   "metadata": {
    "collapsed": true
   },
   "outputs": [],
   "source": []
  },
  {
   "cell_type": "code",
   "execution_count": null,
   "metadata": {
    "collapsed": true
   },
   "outputs": [],
   "source": []
  },
  {
   "cell_type": "code",
   "execution_count": null,
   "metadata": {
    "collapsed": true
   },
   "outputs": [],
   "source": []
  },
  {
   "cell_type": "code",
   "execution_count": null,
   "metadata": {
    "collapsed": true
   },
   "outputs": [],
   "source": []
  },
  {
   "cell_type": "code",
   "execution_count": null,
   "metadata": {
    "collapsed": true
   },
   "outputs": [],
   "source": []
  },
  {
   "cell_type": "code",
   "execution_count": null,
   "metadata": {
    "collapsed": true
   },
   "outputs": [],
   "source": []
  },
  {
   "cell_type": "code",
   "execution_count": null,
   "metadata": {
    "collapsed": true
   },
   "outputs": [],
   "source": []
  }
 ],
 "metadata": {
  "kernelspec": {
   "display_name": "Python 2",
   "language": "python",
   "name": "python2"
  },
  "language_info": {
   "codemirror_mode": {
    "name": "ipython",
    "version": 2
   },
   "file_extension": ".py",
   "mimetype": "text/x-python",
   "name": "python",
   "nbconvert_exporter": "python",
   "pygments_lexer": "ipython2",
   "version": "2.7.11"
  }
 },
 "nbformat": 4,
 "nbformat_minor": 0
}
